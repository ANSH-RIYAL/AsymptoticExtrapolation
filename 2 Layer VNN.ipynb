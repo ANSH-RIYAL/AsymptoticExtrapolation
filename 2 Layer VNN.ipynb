{
 "cells": [
  {
   "cell_type": "code",
   "execution_count": 2,
   "metadata": {},
   "outputs": [],
   "source": [
    "# Imports\n",
    "import tensorflow as tf\n",
    "import numpy as np\n",
    "from tensorflow.keras import Sequential\n",
    "from tensorflow.keras.layers import Dense\n",
    "from random import randint"
   ]
  },
  {
   "cell_type": "code",
   "execution_count": 6,
   "metadata": {},
   "outputs": [
    {
     "name": "stdout",
     "output_type": "stream",
     "text": [
      "[[0.56384462 0.21598767 0.69767072 0.73068821 0.5441866 ]\n",
      " [0.58832017 0.0985392  0.65585671 0.02045132 0.77791374]\n",
      " [0.81376789 0.4737844  0.91857425 0.14786266 0.08459946]\n",
      " [0.22451021 0.1801326  0.6181986  0.25524443 0.19867362]\n",
      " [0.61778224 0.21400834 0.26414792 0.14911084 0.61991421]]\n"
     ]
    }
   ],
   "source": [
    "# Auxillary function to help with layer 2\n",
    "def constFunc(values):\n",
    "    ans = 0\n",
    "    idealWeights = [0.3,0.1,-0.8,0.3,1.2]\n",
    "    for i in range(len(values)):\n",
    "        ans += values[i]*idealWeights[i]\n",
    "    return ans + 0.1\n",
    "\n",
    "# Random initialisation of weightMatrixLayer1 of dimensions 5x5\n",
    "weightMatrixLayer1 = np.random.rand(5,5)\n",
    "print(weightMatrixLayer1)\n",
    "\n",
    "# Ideal function (which is hoping to be mapped)\n",
    "def calculate(inputAttributes):\n",
    "    layer1 = np.matmul(inputAttributes,weightMatrixLayer1)\n",
    "    layer2 = constFunc(layer1)\n",
    "    return layer2"
   ]
  },
  {
   "cell_type": "code",
   "execution_count": 7,
   "metadata": {},
   "outputs": [
    {
     "name": "stdout",
     "output_type": "stream",
     "text": [
      "Model: \"sequential_1\"\n",
      "_________________________________________________________________\n",
      "Layer (type)                 Output Shape              Param #   \n",
      "=================================================================\n",
      "dense_2 (Dense)              (None, 5)                 30        \n",
      "_________________________________________________________________\n",
      "dense_3 (Dense)              (None, 1)                 6         \n",
      "=================================================================\n",
      "Total params: 36\n",
      "Trainable params: 36\n",
      "Non-trainable params: 0\n",
      "_________________________________________________________________\n"
     ]
    }
   ],
   "source": [
    "model = Sequential()\n",
    "model.add(Dense(5, input_shape = (5,)))\n",
    "model.add(Dense(1))\n",
    "model.summary()"
   ]
  },
  {
   "cell_type": "code",
   "execution_count": 8,
   "metadata": {},
   "outputs": [
    {
     "data": {
      "text/plain": [
       "[array([[ 0.13101053, -0.75829166,  0.7238418 , -0.13669217,  0.6460359 ],\n",
       "        [ 0.13448179,  0.77050436,  0.01860243,  0.03432542,  0.25467408],\n",
       "        [ 0.118595  ,  0.74407494, -0.47403875,  0.56489384,  0.13855153],\n",
       "        [-0.43438244,  0.5228236 ,  0.07764447, -0.4264206 ,  0.6661713 ],\n",
       "        [-0.02448499,  0.52841926, -0.3003494 ,  0.31233168,  0.06155604]],\n",
       "       dtype=float32),\n",
       " array([0., 0., 0., 0., 0.], dtype=float32),\n",
       " array([[-0.96274996],\n",
       "        [-0.4065895 ],\n",
       "        [-0.44674444],\n",
       "        [-0.6252513 ],\n",
       "        [-0.8179972 ]], dtype=float32),\n",
       " array([0.], dtype=float32)]"
      ]
     },
     "execution_count": 8,
     "metadata": {},
     "output_type": "execute_result"
    }
   ],
   "source": [
    "model.get_weights()"
   ]
  },
  {
   "cell_type": "code",
   "execution_count": 9,
   "metadata": {},
   "outputs": [
    {
     "name": "stdout",
     "output_type": "stream",
     "text": [
      "100\n",
      "100\n"
     ]
    }
   ],
   "source": [
    "# Data Generation for function mapping\n",
    "\n",
    "x = []\n",
    "y = []\n",
    "\n",
    "for samples in range(100):\n",
    "    values = np.random.rand(5)\n",
    "    x.append(values)\n",
    "    y.append(calculate(values))\n",
    "print(len(x),x)\n",
    "print(len(y))"
   ]
  },
  {
   "cell_type": "code",
   "execution_count": null,
   "metadata": {},
   "outputs": [],
   "source": []
  },
  {
   "cell_type": "code",
   "execution_count": null,
   "metadata": {},
   "outputs": [],
   "source": []
  },
  {
   "cell_type": "code",
   "execution_count": null,
   "metadata": {},
   "outputs": [],
   "source": []
  },
  {
   "cell_type": "code",
   "execution_count": null,
   "metadata": {},
   "outputs": [],
   "source": []
  },
  {
   "cell_type": "code",
   "execution_count": null,
   "metadata": {},
   "outputs": [],
   "source": []
  }
 ],
 "metadata": {
  "kernelspec": {
   "display_name": "Python 3",
   "language": "python",
   "name": "python3"
  },
  "language_info": {
   "codemirror_mode": {
    "name": "ipython",
    "version": 3
   },
   "file_extension": ".py",
   "mimetype": "text/x-python",
   "name": "python",
   "nbconvert_exporter": "python",
   "pygments_lexer": "ipython3",
   "version": "3.6.9"
  }
 },
 "nbformat": 4,
 "nbformat_minor": 4
}
