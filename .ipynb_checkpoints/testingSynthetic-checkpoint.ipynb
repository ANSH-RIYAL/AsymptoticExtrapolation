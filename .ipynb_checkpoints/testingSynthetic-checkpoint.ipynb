{
 "cells": [
  {
   "cell_type": "code",
   "execution_count": null,
   "metadata": {},
   "outputs": [],
   "source": []
  },
  {
   "cell_type": "code",
   "execution_count": null,
   "metadata": {},
   "outputs": [],
   "source": [
    "# Rapid Training:\n",
    "\n",
    "rapidModel = createExpModel()\n",
    "rapidModel.compile(optimizer = 'adam', loss= 'mse', metrics = ['accuracy'])\n",
    "\n",
    "uselessModelPartiallyTrained = createExpModel()\n",
    "uselessModelPartiallyTrained.compile(optimizer = 'adam', loss= 'mse', metrics = ['accuracy'])"
   ]
  },
  {
   "cell_type": "code",
   "execution_count": null,
   "metadata": {},
   "outputs": [],
   "source": [
    "# Partial Training\n",
    "\n",
    "timeSerieslength = 200\n",
    "\n",
    "trackingArray = []\n",
    "batch_size = 20\n",
    "epochs = 1 # Changed epochs from 5 to 1\n",
    "for epoch in range(epochs):\n",
    "    for i in range(0,timeSerieslength): # Training only for 200 time steps\n",
    "        uselessModelPartiallyTrained.fit(np.asarray(inpX[i*15:i*15+batch_size]),np.asarray(targets[i*15:i*15+batch_size]))\n",
    "        trackingArray.append(np.array(uselessModelPartiallyTrained.get_weights()))\n",
    "print(len(trackingArray))"
   ]
  },
  {
   "cell_type": "code",
   "execution_count": null,
   "metadata": {},
   "outputs": [],
   "source": [
    "# import LSTM"
   ]
  },
  {
   "cell_type": "code",
   "execution_count": null,
   "metadata": {},
   "outputs": [],
   "source": [
    "# split model weights into layer"
   ]
  },
  {
   "cell_type": "code",
   "execution_count": null,
   "metadata": {},
   "outputs": [],
   "source": [
    "# Predict final values of partial series"
   ]
  },
  {
   "cell_type": "code",
   "execution_count": null,
   "metadata": {},
   "outputs": [],
   "source": [
    "# replace partially trained weights with new ones in rapidModel"
   ]
  },
  {
   "cell_type": "code",
   "execution_count": null,
   "metadata": {},
   "outputs": [],
   "source": [
    "# resume and complete training for both models"
   ]
  },
  {
   "cell_type": "code",
   "execution_count": null,
   "metadata": {},
   "outputs": [],
   "source": [
    "# model weight graphs se inference karlo"
   ]
  }
 ],
 "metadata": {
  "kernelspec": {
   "display_name": "Python 3",
   "language": "python",
   "name": "python3"
  },
  "language_info": {
   "codemirror_mode": {
    "name": "ipython",
    "version": 3
   },
   "file_extension": ".py",
   "mimetype": "text/x-python",
   "name": "python",
   "nbconvert_exporter": "python",
   "pygments_lexer": "ipython3",
   "version": "3.6.9"
  }
 },
 "nbformat": 4,
 "nbformat_minor": 4
}
